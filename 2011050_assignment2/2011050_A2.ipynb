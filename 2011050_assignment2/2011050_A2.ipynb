{
 "cells": [
  {
   "cell_type": "markdown",
   "metadata": {},
   "source": [
    "QUESTION 1:"
   ]
  },
  {
   "cell_type": "code",
   "execution_count": 1,
   "metadata": {},
   "outputs": [
    {
     "name": "stdout",
     "output_type": "stream",
     "text": [
      "########################################CHOLESKY#############################################\n",
      "The input matrix is : \n",
      "\n",
      "4.0\t-1.0\t0.0\t-1.0\t0.0\t0.0\t2.0\t\n",
      "\n",
      "-1.0\t4.0\t-1.0\t0.0\t-1.0\t0.0\t1.0\t\n",
      "\n",
      "0.0\t-1.0\t4.0\t0.0\t0.0\t-1.0\t2.0\t\n",
      "\n",
      "-1.0\t0.0\t0.0\t4.0\t-1.0\t0.0\t2.0\t\n",
      "\n",
      "0.0\t-1.0\t0.0\t-1.0\t4.0\t-1.0\t1.0\t\n",
      "\n",
      "0.0\t0.0\t-1.0\t0.0\t-1.0\t4.0\t2.0\t\n",
      "\n",
      "\n",
      "\n",
      "The given matrix is symmetric so it can be solved by cholesky decomposition method.\n",
      "\n",
      "The solution of the given linear equations using Cholesky decomposition method is : \n",
      "\n",
      "x1 = 1\n",
      "x2 = 1\n",
      "x3 = 1\n",
      "x4 = 1\n",
      "x5 = 1\n",
      "x6 = 1\n",
      "\n",
      "#####################################GAUSS-SIEDEL##########################################\n",
      "The input matrix is : \n",
      "\n",
      "4.0 \t-1.0 \t0.0 \t-1.0 \t0.0 \t0.0 \t2.0 \t\n",
      "\n",
      "-1.0 \t4.0 \t-1.0 \t0.0 \t-1.0 \t0.0 \t1.0 \t\n",
      "\n",
      "0.0 \t-1.0 \t4.0 \t0.0 \t0.0 \t-1.0 \t2.0 \t\n",
      "\n",
      "-1.0 \t0.0 \t0.0 \t4.0 \t-1.0 \t0.0 \t2.0 \t\n",
      "\n",
      "0.0 \t-1.0 \t0.0 \t-1.0 \t4.0 \t-1.0 \t1.0 \t\n",
      "\n",
      "0.0 \t0.0 \t-1.0 \t0.0 \t-1.0 \t4.0 \t2.0 \t\n",
      "\n",
      "\n",
      "\n",
      "The diagonally dominant matrix is:-\n",
      "\n",
      "4.0 \t-1.0 \t0.0 \t-1.0 \t0.0 \t0.0 \t2.0 \t\n",
      "\n",
      "-1.0 \t4.0 \t-1.0 \t0.0 \t-1.0 \t0.0 \t1.0 \t\n",
      "\n",
      "0.0 \t-1.0 \t4.0 \t0.0 \t0.0 \t-1.0 \t2.0 \t\n",
      "\n",
      "-1.0 \t0.0 \t0.0 \t4.0 \t-1.0 \t0.0 \t2.0 \t\n",
      "\n",
      "0.0 \t-1.0 \t0.0 \t-1.0 \t4.0 \t-1.0 \t1.0 \t\n",
      "\n",
      "0.0 \t0.0 \t-1.0 \t0.0 \t-1.0 \t4.0 \t2.0 \t\n",
      "\n",
      "\n",
      "\n",
      "The solution of the given linear equations using Gauss-Seidel method is : \n",
      "\n",
      "x1 = 1.0\n",
      "x2 = 1.0\n",
      "x3 = 1.0\n",
      "x4 = 1.0\n",
      "x5 = 1.0\n",
      "x6 = 1.0\n"
     ]
    }
   ],
   "source": [
    "import myCodes.cholesky as ch\n",
    "import myCodes.gauss_siedel as gs\n",
    "print(\"########################################CHOLESKY#############################################\")\n",
    "ch.main(\"/home/biswaranjan12/m1.csv\")\n",
    "print(\"\\n#####################################GAUSS-SIEDEL##########################################\")\n",
    "gs.main(\"/home/biswaranjan12/m1.csv\")"
   ]
  },
  {
   "cell_type": "markdown",
   "metadata": {},
   "source": [
    "The input matrix (as m1.csv file) is an augmented matrix containg the input matrix and the solution matrix. Then the cholesky code checks whether the input matrix is symmetric. If it is symmetric, then it solves the system of equations, or else it doesn't. Then the system of linear equations is solved using Gauss-Siedel method to a precision of $10^{-6}$. THE OUTPUT HAS SCROLLABLE ELEMENT TO HAVE THE OVERALL VIEW."
   ]
  },
  {
   "cell_type": "markdown",
   "metadata": {},
   "source": [
    "QUESTION 2:"
   ]
  },
  {
   "cell_type": "code",
   "execution_count": 2,
   "metadata": {},
   "outputs": [
    {
     "name": "stdout",
     "output_type": "stream",
     "text": [
      "#######################################GAUSS-JORDAN#############################################\n",
      "The input matrix is : \n",
      "\n",
      "0.0\t4.0\t2.0\t0.0\t1.0\t20.0\t\n",
      "\n",
      "4.0\t0.0\t4.0\t10.0\t1.0\t15.0\t\n",
      "\n",
      "2.0\t5.0\t1.0\t3.0\t13.0\t92.0\t\n",
      "\n",
      "11.0\t3.0\t0.0\t1.0\t2.0\t51.0\t\n",
      "\n",
      "3.0\t2.0\t7.0\t1.0\t0.0\t15.0\t\n",
      "\n",
      "\n",
      "\n",
      "The solution of the given linear equations using Gauss-Jordon elimination mathod is : \n",
      "\n",
      "x1 = 2.674602051644853\n",
      "x2 = 3.7118853908737193\n",
      "x3 = -0.05330739299611234\n",
      "x4 = -0.07442518570923085\n",
      "x5 = 5.259073222497346\n",
      "\n",
      "###################################LU-FACTORIZATION##########################################\n",
      "The input matrix is : \n",
      "\n",
      "0.0 \t4.0 \t2.0 \t0.0 \t1.0 \t20.0 \t\n",
      "\n",
      "4.0 \t0.0 \t4.0 \t10.0 \t1.0 \t15.0 \t\n",
      "\n",
      "2.0 \t5.0 \t1.0 \t3.0 \t13.0 \t92.0 \t\n",
      "\n",
      "11.0 \t3.0 \t0.0 \t1.0 \t2.0 \t51.0 \t\n",
      "\n",
      "3.0 \t2.0 \t7.0 \t1.0 \t0.0 \t15.0 \t\n",
      "\n",
      "\n",
      "\n",
      "The new matrix after swapping (as the first element in the input matrix is 0):\n",
      "3.0 \t2.0 \t7.0 \t1.0 \t0.0 \t15.0 \t\n",
      "\n",
      "0.0 \t4.0 \t2.0 \t0.0 \t1.0 \t20.0 \t\n",
      "\n",
      "4.0 \t0.0 \t4.0 \t10.0 \t1.0 \t15.0 \t\n",
      "\n",
      "2.0 \t5.0 \t1.0 \t3.0 \t13.0 \t92.0 \t\n",
      "\n",
      "11.0 \t3.0 \t0.0 \t1.0 \t2.0 \t51.0 \t\n",
      "\n",
      "\n",
      "\n",
      "The solution of the given linear equations using LU decomposition method is : \n",
      "\n",
      "x1 = 2.674602051644855\n",
      "x2 = 3.711885390873718\n",
      "x3 = -0.05330739299610966\n",
      "x4 = -0.07442518570923257\n",
      "x5 = 5.259073222497347\n"
     ]
    }
   ],
   "source": [
    "import myCodes.gajoel as gj\n",
    "import myCodes.ludecom as lu\n",
    "print(\"#######################################GAUSS-JORDAN#############################################\")\n",
    "gj.main(\"/home/biswaranjan12/m2.csv\")\n",
    "print(\"\\n###################################LU-FACTORIZATION##########################################\")\n",
    "lu.main(\"/home/biswaranjan12/m2.csv\")"
   ]
  },
  {
   "cell_type": "markdown",
   "metadata": {},
   "source": [
    "The input matrix (as m2.csv file) is an augmented matrix containg the input matrix and the solution matrix. Then the system of linear equations is solved using Gauss-Jordan method. Next for the LU method, it checks whether the first element is 0. If yes, swapping is done with an appropriate row and then the system of linear equations is solved using LU method. THE OUTPUT HAS SCROLLABLE ELEMENT TO HAVE THE OVERALL VIEW."
   ]
  },
  {
   "cell_type": "markdown",
   "metadata": {},
   "source": [
    "QUESTION 3:"
   ]
  },
  {
   "cell_type": "code",
   "execution_count": 3,
   "metadata": {},
   "outputs": [
    {
     "name": "stdout",
     "output_type": "stream",
     "text": [
      "Input Matrix A:\n",
      "\n",
      "2.0\t-1.0\t0.0\t0.0\t0.0\t0.0\t\n",
      "\n",
      "-1.0\t4.0\t-1.0\t0.0\t-1.0\t0.0\t\n",
      "\n",
      "0.0\t-1.0\t4.0\t0.0\t0.0\t-1.0\t\n",
      "\n",
      "0.0\t0.0\t0.0\t2.0\t-1.0\t0.0\t\n",
      "\n",
      "0.0\t-1.0\t0.0\t-1.0\t4.0\t-1.0\t\n",
      "\n",
      "0.0\t0.0\t-1.0\t0.0\t-1.0\t4.0\t\n",
      "\n",
      "\n",
      "\n",
      "Vector b:\n",
      "[-1.66666667  0.66666667  3.         -1.33333333 -0.33333333  1.66666667]\n",
      "\n",
      "Solution:\n",
      "x1 =  -0.7224069235637336\n",
      "x2 =  0.21837987118930222\n",
      "x3 =  0.9667776718896227\n",
      "x4 =  -0.6877490594512368\n",
      "x5 =  -0.03885282155859396\n",
      "x6 =  0.6485614317602492\n",
      "\n",
      "Approximate Inverse of matrix A:\n",
      "\n",
      "0.5868\t\t0.1735\t\t0.0501\t\t0.0286\t\t0.0572\t\t0.0268\t\t\n",
      "\n",
      "0.1735\t\t0.347\t\t0.1002\t\t0.0572\t\t0.1145\t\t0.0537\t\t\n",
      "\n",
      "0.0501\t\t0.1002\t\t0.297\t\t0.0268\t\t0.0537\t\t0.0877\t\t\n",
      "\n",
      "0.0286\t\t0.0572\t\t0.0268\t\t0.5868\t\t0.1735\t\t0.0501\t\t\n",
      "\n",
      "0.0572\t\t0.1145\t\t0.0537\t\t0.1735\t\t0.347\t\t0.1002\t\t\n",
      "\n",
      "0.0268\t\t0.0537\t\t0.0877\t\t0.0501\t\t0.1002\t\t0.297\t\t\n",
      "\n",
      "\n",
      "\n",
      "\n",
      "After multiplying input matrix A with its inverse:\n",
      "\n",
      "1.0\t\t0.0\t\t0.0\t\t0.0\t\t0.0\t\t0.0\t\t\n",
      "\n",
      "0.0\t\t1.0\t\t0.0\t\t0.0\t\t0.0\t\t0.0\t\t\n",
      "\n",
      "0.0\t\t0.0\t\t1.0\t\t0.0\t\t0.0\t\t0.0\t\t\n",
      "\n",
      "0.0\t\t0.0\t\t0.0\t\t1.0\t\t0.0\t\t0.0\t\t\n",
      "\n",
      "0.0\t\t0.0\t\t0.0\t\t0.0\t\t1.0\t\t0.0\t\t\n",
      "\n",
      "0.0\t\t0.0\t\t0.0\t\t0.0\t\t0.0\t\t1.0\t\t\n",
      "\n",
      "\n",
      "\n"
     ]
    }
   ],
   "source": [
    "import myCodes.congrad as cg\n",
    "import myCodes.congradinv as cginv\n",
    "import myCodes.matmult as mm\n",
    "import numpy as np\n",
    "\n",
    "# Assuming m3.csv contains the matrix A augmented with the vector b in the last column\n",
    "M = np.loadtxt(\"/home/biswaranjan12/m3.csv\", delimiter=',')\n",
    "n = M.shape[0]  # Assuming M is square\n",
    "\n",
    "A = M[:, :-1]  # Extracting the matrix A\n",
    "b = M[:, -1]   # Extracting the vector b\n",
    "\n",
    "print(\"Input Matrix A:\\n\")\n",
    "cg.printmatrix(np.matrix(A))\n",
    "print(\"Vector b:\")\n",
    "print(b)\n",
    "\n",
    "x = cg.conjugate_gradient(A, b)\n",
    "\n",
    "print(\"\\nSolution:\")\n",
    "for i in range(len(x)):\n",
    "    print(\"x\" + str(i+1) + \" = \", x[i])\n",
    "\n",
    "print(\"\\nApproximate Inverse of matrix A:\\n\")\n",
    "Ainv = cginv.matrix_transpose(cginv.approximate_inverse(A))\n",
    "cginv.printmatrix(np.matrix(np.round(Ainv,decimals=4)))\n",
    "\n",
    "print(\"\\nAfter multiplying input matrix A with its inverse:\\n\")\n",
    "Y=mm.main(np.matrix(Ainv),np.matrix(A))\n",
    "cginv.printmatrix(np.round(Y,decimals=4))\n"
   ]
  },
  {
   "cell_type": "markdown",
   "metadata": {},
   "source": [
    "The input matrix (as m3.csv file) is an augmented matrix containg the input matrix and the solution matrix. Then the system of linear equations is solved using Conjugate gradient method. Next after calculating the inverse of the input matrix, it checks whether multiplying the input matrix with its inverse gives identity. The ouput shows approximately identity matrix with a tolerance of $10^{-4}$. THE OUTPUT HAS SCROLLABLE ELEMENT TO HAVE THE OVERALL VIEW."
   ]
  },
  {
   "cell_type": "markdown",
   "metadata": {},
   "source": [
    "QUESTION 4:"
   ]
  },
  {
   "cell_type": "code",
   "execution_count": 13,
   "metadata": {},
   "outputs": [
    {
     "name": "stdout",
     "output_type": "stream",
     "text": [
      "\n",
      "Approximate Inverse of matrix A:\n",
      "\n",
      "<function matvec_product at 0x7d3f08cdb370>\n"
     ]
    },
    {
     "data": {
      "image/png": "[encoded data removed]",
      "text/plain": [
       "<Figure size 640x480 with 1 Axes>"
      ]
     },
     "metadata": {},
     "output_type": "display_data"
    }
   ],
   "source": [
    "import numpy as np\n",
    "import matplotlib.pyplot as plt\n",
    "import myCodes.congradinv as cginv\n",
    "# Define parameters\n",
    "m = 0.2\n",
    "convergence_criteria = 1e-6\n",
    "size = 50\n",
    "\n",
    "# Function to calculate the matrix-vector product\n",
    "def matvec_product(x):\n",
    "    Ax = np.zeros_like(x)\n",
    "    for i in range(size):\n",
    "        for j in range(size):\n",
    "            idx = i * size + j\n",
    "            Ax[idx] = 0.5 * (x[(i+1)%size*size + j] + x[(i-1)%size*size + j] - 2 * x[idx]) + m**2 * x[idx]\n",
    "    return Ax\n",
    "\n",
    "# Conjugate Gradient algorithm\n",
    "def conjugate_gradient(A, b, x0, convergence_criteria, max_iter=1000):\n",
    "    x = x0\n",
    "    r = b - A(x)\n",
    "    p = r\n",
    "    rsold = np.dot(r, r)\n",
    "    residuals = [rsold]\n",
    "    \n",
    "    for i in range(max_iter):\n",
    "        Ap = A(p)\n",
    "        alpha = rsold / np.dot(p, Ap)\n",
    "        x = x + alpha * p\n",
    "        r = r - alpha * Ap\n",
    "        rsnew = np.dot(r, r)\n",
    "        residuals.append(rsnew)\n",
    "        if np.sqrt(rsnew) < convergence_criteria:\n",
    "            break\n",
    "        p = r + (rsnew / rsold) * p\n",
    "        rsold = rsnew\n",
    "    \n",
    "    return x, residuals\n",
    "\n",
    "# Initial guess\n",
    "x0 = np.ones(size**2)\n",
    "\n",
    "# Generate the right-hand side\n",
    "b = np.zeros(size**2)\n",
    "b[size//2] = 1  # Applying periodic boundary condition\n",
    "\n",
    "# Perform Conjugate Gradient method\n",
    "inverse, residuals = conjugate_gradient(matvec_product, b, x0, convergence_criteria)\n",
    "print(\"\\nApproximate Inverse of matrix A:\\n\")\n",
    "print(matvec_product)\n",
    "\n",
    "# Plot residue versus iteration steps\n",
    "plt.plot(residuals)\n",
    "plt.yscale('log')\n",
    "plt.xlabel('Iteration Steps')\n",
    "plt.ylabel('Residue')\n",
    "plt.title('Residue vs Iteration Steps')\n",
    "plt.grid(True)\n",
    "plt.show()\n",
    "\n"
   ]
  },
  {
   "cell_type": "markdown",
   "metadata": {},
   "source": []
  }
 ],
 "metadata": {
  "kernelspec": {
   "display_name": "Python 3",
   "language": "python",
   "name": "python3"
  },
  "language_info": {
   "codemirror_mode": {
    "name": "ipython",
    "version": 3
   },
   "file_extension": ".py",
   "mimetype": "text/x-python",
   "name": "python",
   "nbconvert_exporter": "python",
   "pygments_lexer": "ipython3",
   "version": "3.10.12"
  }
 },
 "nbformat": 4,
 "nbformat_minor": 2
}
